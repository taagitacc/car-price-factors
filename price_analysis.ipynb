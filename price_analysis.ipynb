{
 "metadata": {
  "language_info": {
   "codemirror_mode": {
    "name": "ipython",
    "version": 3
   },
   "file_extension": ".py",
   "mimetype": "text/x-python",
   "name": "python",
   "nbconvert_exporter": "python",
   "pygments_lexer": "ipython3",
   "version": "3.7.3-final"
  },
  "orig_nbformat": 2,
  "kernelspec": {
   "name": "python3",
   "display_name": "Python 3",
   "language": "python"
  }
 },
 "nbformat": 4,
 "nbformat_minor": 2,
 "cells": [
  {
   "source": [
    "## Data understanding"
   ],
   "cell_type": "markdown",
   "metadata": {}
  },
  {
   "source": [
    "### Import data"
   ],
   "cell_type": "markdown",
   "metadata": {}
  },
  {
   "cell_type": "code",
   "execution_count": 281,
   "metadata": {},
   "outputs": [],
   "source": [
    "import numpy as np \n",
    "import pandas as pd\n",
    "pd.set_option('max_columns', None)\n",
    "import matplotlib.pyplot as plt\n",
    "\n",
    "from sklearn.model_selection import train_test_split\n",
    "from sklearn.preprocessing import StandardScaler\n",
    "from sklearn import preprocessing\n",
    "\n",
    "from sklearn.decomposition import PCA\n",
    "from sklearn.feature_selection import SelectKBest, f_regression\n",
    "import seaborn as sns \n",
    "\n",
    "from sklearn.linear_model import LinearRegression, Ridge, Lasso\n",
    "from sklearn.neighbors import KNeighborsRegressor\n",
    "from sklearn.neural_network import MLPRegressor\n",
    "from sklearn.svm import LinearSVR, SVR\n",
    "from sklearn.tree import DecisionTreeRegressor\n",
    "from sklearn.ensemble import RandomForestRegressor, GradientBoostingRegressor\n",
    "\n",
    "from sklearn.metrics import r2_score, mean_squared_error"
   ]
  },
  {
   "cell_type": "code",
   "execution_count": 282,
   "metadata": {},
   "outputs": [
    {
     "output_type": "execute_result",
     "data": {
      "text/plain": [
       "(32316, 56)"
      ]
     },
     "metadata": {},
     "execution_count": 282
    }
   ],
   "source": [
    "df = pd.read_csv('./New_cars_cleaned.csv')\n",
    "df.shape"
   ]
  },
  {
   "cell_type": "code",
   "execution_count": 283,
   "metadata": {},
   "outputs": [
    {
     "output_type": "execute_result",
     "data": {
      "text/plain": [
       "      MSRP  EPA Fuel Economy Est - City (MPG) Engine Drivetrain  \\\n",
       "0  40600.0                               22.0     l4        FWD   \n",
       "1  45500.0                               22.0     l4        FWD   \n",
       "2  43600.0                               22.0     l4        FWD   \n",
       "3  37400.0                               22.0     l4        FWD   \n",
       "4  42600.0                               21.0     l4        AWD   \n",
       "5  47500.0                               21.0     l4        AWD   \n",
       "6  45600.0                               21.0     l4        AWD   \n",
       "7  37500.0                               19.0     V6        AWD   \n",
       "\n",
       "   Passenger Capacity  Passenger Doors  Base Curb Weight (lbs)  \\\n",
       "0                   5                4                  3790.0   \n",
       "1                   5                4                  3829.0   \n",
       "2                   5                4                  3821.0   \n",
       "3                   5                4                  3783.0   \n",
       "4                   5                4                  4026.0   \n",
       "5                   5                4                  4068.0   \n",
       "6                   5                4                  4015.0   \n",
       "7                   5                4                  3902.0   \n",
       "\n",
       "   Passenger Volume (ft³)  Wheelbase (in)  Track Width, Front (in)  \\\n",
       "0                   104.0           108.3                     64.2   \n",
       "1                   104.0           108.3                     64.2   \n",
       "2                   104.0           108.3                     64.2   \n",
       "3                   104.0           108.3                     64.2   \n",
       "4                   104.0           108.3                     64.2   \n",
       "5                   104.0           108.3                     64.2   \n",
       "6                   104.0           108.3                     64.2   \n",
       "7                   103.5           105.7                     63.1   \n",
       "\n",
       "   Height, Overall (in)  Fuel Tank Capacity, Approx (gal)  \\\n",
       "0                  65.7                              17.1   \n",
       "1                  65.7                              17.1   \n",
       "2                  65.7                              17.1   \n",
       "3                  65.7                              17.1   \n",
       "4                  65.7                              17.1   \n",
       "5                  65.7                              17.1   \n",
       "6                  65.7                              17.1   \n",
       "7                  65.0                              16.0   \n",
       "\n",
       "   SAE Net Torque @ RPM Fuel System  SAE Net Horsepower @ RPM  Displacement  \\\n",
       "0                 280.0          DI                     272.0           2.0   \n",
       "1                 280.0          DI                     272.0           2.0   \n",
       "2                 280.0          DI                     272.0           2.0   \n",
       "3                 280.0          DI                     272.0           2.0   \n",
       "4                 280.0          DI                     272.0           2.0   \n",
       "5                 280.0          DI                     272.0           2.0   \n",
       "6                 280.0          DI                     272.0           2.0   \n",
       "7                 252.0         SFI                     279.0           3.5   \n",
       "\n",
       "  Trans Description Cont. Trans Type Suspension Type - Front  \\\n",
       "0               Automatic         10        MacPherson Strut   \n",
       "1               Automatic         10        MacPherson Strut   \n",
       "2               Automatic         10        MacPherson Strut   \n",
       "3               Automatic         10        MacPherson Strut   \n",
       "4               Automatic         10        MacPherson Strut   \n",
       "5               Automatic         10        MacPherson Strut   \n",
       "6               Automatic         10        MacPherson Strut   \n",
       "7               Automatic          6        MacPherson Strut   \n",
       "\n",
       "  Suspension Type - Rear  Air Bag-Frontal-Driver  Air Bag-Frontal-Passenger  \\\n",
       "0              Link type                       1                          1   \n",
       "1              Link type                       1                          1   \n",
       "2              Link type                       1                          1   \n",
       "3              Link type                       1                          1   \n",
       "4              Link type                       1                          1   \n",
       "5              Link type                       1                          1   \n",
       "6              Link type                       1                          1   \n",
       "7              Link type                       1                          1   \n",
       "\n",
       "   Air Bag-Passenger Switch (On/Off)  Air Bag-Side Body-Front  \\\n",
       "0                                  0                        1   \n",
       "1                                  0                        1   \n",
       "2                                  0                        1   \n",
       "3                                  0                        1   \n",
       "4                                  0                        1   \n",
       "5                                  0                        1   \n",
       "6                                  0                        1   \n",
       "7                                  0                        1   \n",
       "\n",
       "   Air Bag-Side Body-Rear  Air Bag-Side Head-Front  Air Bag-Side Head-Rear  \\\n",
       "0                       0                        1                       1   \n",
       "1                       0                        1                       1   \n",
       "2                       0                        1                       1   \n",
       "3                       0                        1                       1   \n",
       "4                       0                        1                       1   \n",
       "5                       0                        1                       1   \n",
       "6                       0                        1                       1   \n",
       "7                       0                        1                       1   \n",
       "\n",
       "   Brakes-ABS  Child Safety Rear Door Locks  Daytime Running Lights  \\\n",
       "0           1                             1                       1   \n",
       "1           1                             1                       1   \n",
       "2           1                             1                       1   \n",
       "3           1                             1                       1   \n",
       "4           1                             1                       1   \n",
       "5           1                             1                       1   \n",
       "6           1                             1                       1   \n",
       "7           1                             1                       1   \n",
       "\n",
       "   Traction Control  Night Vision  Rollover Protection Bars  Fog Lamps  \\\n",
       "0                 1             0                         0          0   \n",
       "1                 1             0                         0          1   \n",
       "2                 1             0                         0          1   \n",
       "3                 1             0                         0          0   \n",
       "4                 1             0                         0          0   \n",
       "5                 1             0                         0          1   \n",
       "6                 1             0                         0          1   \n",
       "7                 1             0                         0          0   \n",
       "\n",
       "   Parking Aid  Tire Pressure Monitor  Back-Up Camera  Stability Control  \\\n",
       "0            1                      1               1                  1   \n",
       "1            1                      1               1                  1   \n",
       "2            1                      1               1                  1   \n",
       "3            0                      1               1                  1   \n",
       "4            1                      1               1                  1   \n",
       "5            1                      1               1                  1   \n",
       "6            1                      1               1                  1   \n",
       "7            0                      1               1                  1   \n",
       "\n",
       "   Basic Miles/km  Basic Years  Corrosion Miles/km  Corrosion Years  \\\n",
       "0         50000.0          4.0            150000.0              5.0   \n",
       "1         50000.0          4.0            150000.0              5.0   \n",
       "2         50000.0          4.0            150000.0              5.0   \n",
       "3         50000.0          4.0            150000.0              5.0   \n",
       "4         50000.0          4.0            150000.0              5.0   \n",
       "5         50000.0          4.0            150000.0              5.0   \n",
       "6         50000.0          4.0            150000.0              5.0   \n",
       "7         50000.0          4.0            150000.0              5.0   \n",
       "\n",
       "   Drivetrain Miles/km  Drivetrain Years  \\\n",
       "0              70000.0               6.0   \n",
       "1              70000.0               6.0   \n",
       "2              70000.0               6.0   \n",
       "3              70000.0               6.0   \n",
       "4              70000.0               6.0   \n",
       "5              70000.0               6.0   \n",
       "6              70000.0               6.0   \n",
       "7              70000.0               6.0   \n",
       "\n",
       "   Turning Diameter - Curb to Curb (ft) Front Wheel Material  \\\n",
       "0                                  39.0             Aluminum   \n",
       "1                                  39.0             Aluminum   \n",
       "2                                  39.0             Aluminum   \n",
       "3                                  39.0             Aluminum   \n",
       "4                                  39.0             Aluminum   \n",
       "5                                  39.0             Aluminum   \n",
       "6                                  39.0             Aluminum   \n",
       "7                                  38.9             Aluminum   \n",
       "\n",
       "   Stabilizer Bar Diameter - Front (in)  Roadside Assistance Years  \\\n",
       "0                                   NaN                        NaN   \n",
       "1                                   NaN                        NaN   \n",
       "2                                   NaN                        NaN   \n",
       "3                                   NaN                        NaN   \n",
       "4                                   NaN                        NaN   \n",
       "5                                   NaN                        NaN   \n",
       "6                                   NaN                        NaN   \n",
       "7                                   NaN                        NaN   \n",
       "\n",
       "   Roadside Assistance Miles/km Manufacturer  Model year Category  \\\n",
       "0                       50000.0        Acura        2019      SUV   \n",
       "1                       50000.0        Acura        2019      SUV   \n",
       "2                       50000.0        Acura        2019      SUV   \n",
       "3                       50000.0        Acura        2019      SUV   \n",
       "4                       50000.0        Acura        2019      SUV   \n",
       "5                       50000.0        Acura        2019      SUV   \n",
       "6                       50000.0        Acura        2019      SUV   \n",
       "7                       50000.0        Acura        2018      SUV   \n",
       "\n",
       "  Front tire width  Front tire aspect ratio  \\\n",
       "0              235                     55.0   \n",
       "1              235                     55.0   \n",
       "2              255                     45.0   \n",
       "3              235                     55.0   \n",
       "4              235                     55.0   \n",
       "5              235                     55.0   \n",
       "6              255                     45.0   \n",
       "7              235                     60.0   \n",
       "\n",
       "  Front tire speed ratings/cons.type  Front tire rim size  \n",
       "0                                  H                 19.0  \n",
       "1                                  H                 19.0  \n",
       "2                                  V                 20.0  \n",
       "3                                  H                 19.0  \n",
       "4                                  H                 19.0  \n",
       "5                                  H                 19.0  \n",
       "6                                  V                 20.0  \n",
       "7                                  V                 18.0  "
      ],
      "text/html": "<div>\n<style scoped>\n    .dataframe tbody tr th:only-of-type {\n        vertical-align: middle;\n    }\n\n    .dataframe tbody tr th {\n        vertical-align: top;\n    }\n\n    .dataframe thead th {\n        text-align: right;\n    }\n</style>\n<table border=\"1\" class=\"dataframe\">\n  <thead>\n    <tr style=\"text-align: right;\">\n      <th></th>\n      <th>MSRP</th>\n      <th>EPA Fuel Economy Est - City (MPG)</th>\n      <th>Engine</th>\n      <th>Drivetrain</th>\n      <th>Passenger Capacity</th>\n      <th>Passenger Doors</th>\n      <th>Base Curb Weight (lbs)</th>\n      <th>Passenger Volume (ft³)</th>\n      <th>Wheelbase (in)</th>\n      <th>Track Width, Front (in)</th>\n      <th>Height, Overall (in)</th>\n      <th>Fuel Tank Capacity, Approx (gal)</th>\n      <th>SAE Net Torque @ RPM</th>\n      <th>Fuel System</th>\n      <th>SAE Net Horsepower @ RPM</th>\n      <th>Displacement</th>\n      <th>Trans Description Cont.</th>\n      <th>Trans Type</th>\n      <th>Suspension Type - Front</th>\n      <th>Suspension Type - Rear</th>\n      <th>Air Bag-Frontal-Driver</th>\n      <th>Air Bag-Frontal-Passenger</th>\n      <th>Air Bag-Passenger Switch (On/Off)</th>\n      <th>Air Bag-Side Body-Front</th>\n      <th>Air Bag-Side Body-Rear</th>\n      <th>Air Bag-Side Head-Front</th>\n      <th>Air Bag-Side Head-Rear</th>\n      <th>Brakes-ABS</th>\n      <th>Child Safety Rear Door Locks</th>\n      <th>Daytime Running Lights</th>\n      <th>Traction Control</th>\n      <th>Night Vision</th>\n      <th>Rollover Protection Bars</th>\n      <th>Fog Lamps</th>\n      <th>Parking Aid</th>\n      <th>Tire Pressure Monitor</th>\n      <th>Back-Up Camera</th>\n      <th>Stability Control</th>\n      <th>Basic Miles/km</th>\n      <th>Basic Years</th>\n      <th>Corrosion Miles/km</th>\n      <th>Corrosion Years</th>\n      <th>Drivetrain Miles/km</th>\n      <th>Drivetrain Years</th>\n      <th>Turning Diameter - Curb to Curb (ft)</th>\n      <th>Front Wheel Material</th>\n      <th>Stabilizer Bar Diameter - Front (in)</th>\n      <th>Roadside Assistance Years</th>\n      <th>Roadside Assistance Miles/km</th>\n      <th>Manufacturer</th>\n      <th>Model year</th>\n      <th>Category</th>\n      <th>Front tire width</th>\n      <th>Front tire aspect ratio</th>\n      <th>Front tire speed ratings/cons.type</th>\n      <th>Front tire rim size</th>\n    </tr>\n  </thead>\n  <tbody>\n    <tr>\n      <th>0</th>\n      <td>40600.0</td>\n      <td>22.0</td>\n      <td>l4</td>\n      <td>FWD</td>\n      <td>5</td>\n      <td>4</td>\n      <td>3790.0</td>\n      <td>104.0</td>\n      <td>108.3</td>\n      <td>64.2</td>\n      <td>65.7</td>\n      <td>17.1</td>\n      <td>280.0</td>\n      <td>DI</td>\n      <td>272.0</td>\n      <td>2.0</td>\n      <td>Automatic</td>\n      <td>10</td>\n      <td>MacPherson Strut</td>\n      <td>Link type</td>\n      <td>1</td>\n      <td>1</td>\n      <td>0</td>\n      <td>1</td>\n      <td>0</td>\n      <td>1</td>\n      <td>1</td>\n      <td>1</td>\n      <td>1</td>\n      <td>1</td>\n      <td>1</td>\n      <td>0</td>\n      <td>0</td>\n      <td>0</td>\n      <td>1</td>\n      <td>1</td>\n      <td>1</td>\n      <td>1</td>\n      <td>50000.0</td>\n      <td>4.0</td>\n      <td>150000.0</td>\n      <td>5.0</td>\n      <td>70000.0</td>\n      <td>6.0</td>\n      <td>39.0</td>\n      <td>Aluminum</td>\n      <td>NaN</td>\n      <td>NaN</td>\n      <td>50000.0</td>\n      <td>Acura</td>\n      <td>2019</td>\n      <td>SUV</td>\n      <td>235</td>\n      <td>55.0</td>\n      <td>H</td>\n      <td>19.0</td>\n    </tr>\n    <tr>\n      <th>1</th>\n      <td>45500.0</td>\n      <td>22.0</td>\n      <td>l4</td>\n      <td>FWD</td>\n      <td>5</td>\n      <td>4</td>\n      <td>3829.0</td>\n      <td>104.0</td>\n      <td>108.3</td>\n      <td>64.2</td>\n      <td>65.7</td>\n      <td>17.1</td>\n      <td>280.0</td>\n      <td>DI</td>\n      <td>272.0</td>\n      <td>2.0</td>\n      <td>Automatic</td>\n      <td>10</td>\n      <td>MacPherson Strut</td>\n      <td>Link type</td>\n      <td>1</td>\n      <td>1</td>\n      <td>0</td>\n      <td>1</td>\n      <td>0</td>\n      <td>1</td>\n      <td>1</td>\n      <td>1</td>\n      <td>1</td>\n      <td>1</td>\n      <td>1</td>\n      <td>0</td>\n      <td>0</td>\n      <td>1</td>\n      <td>1</td>\n      <td>1</td>\n      <td>1</td>\n      <td>1</td>\n      <td>50000.0</td>\n      <td>4.0</td>\n      <td>150000.0</td>\n      <td>5.0</td>\n      <td>70000.0</td>\n      <td>6.0</td>\n      <td>39.0</td>\n      <td>Aluminum</td>\n      <td>NaN</td>\n      <td>NaN</td>\n      <td>50000.0</td>\n      <td>Acura</td>\n      <td>2019</td>\n      <td>SUV</td>\n      <td>235</td>\n      <td>55.0</td>\n      <td>H</td>\n      <td>19.0</td>\n    </tr>\n    <tr>\n      <th>2</th>\n      <td>43600.0</td>\n      <td>22.0</td>\n      <td>l4</td>\n      <td>FWD</td>\n      <td>5</td>\n      <td>4</td>\n      <td>3821.0</td>\n      <td>104.0</td>\n      <td>108.3</td>\n      <td>64.2</td>\n      <td>65.7</td>\n      <td>17.1</td>\n      <td>280.0</td>\n      <td>DI</td>\n      <td>272.0</td>\n      <td>2.0</td>\n      <td>Automatic</td>\n      <td>10</td>\n      <td>MacPherson Strut</td>\n      <td>Link type</td>\n      <td>1</td>\n      <td>1</td>\n      <td>0</td>\n      <td>1</td>\n      <td>0</td>\n      <td>1</td>\n      <td>1</td>\n      <td>1</td>\n      <td>1</td>\n      <td>1</td>\n      <td>1</td>\n      <td>0</td>\n      <td>0</td>\n      <td>1</td>\n      <td>1</td>\n      <td>1</td>\n      <td>1</td>\n      <td>1</td>\n      <td>50000.0</td>\n      <td>4.0</td>\n      <td>150000.0</td>\n      <td>5.0</td>\n      <td>70000.0</td>\n      <td>6.0</td>\n      <td>39.0</td>\n      <td>Aluminum</td>\n      <td>NaN</td>\n      <td>NaN</td>\n      <td>50000.0</td>\n      <td>Acura</td>\n      <td>2019</td>\n      <td>SUV</td>\n      <td>255</td>\n      <td>45.0</td>\n      <td>V</td>\n      <td>20.0</td>\n    </tr>\n    <tr>\n      <th>3</th>\n      <td>37400.0</td>\n      <td>22.0</td>\n      <td>l4</td>\n      <td>FWD</td>\n      <td>5</td>\n      <td>4</td>\n      <td>3783.0</td>\n      <td>104.0</td>\n      <td>108.3</td>\n      <td>64.2</td>\n      <td>65.7</td>\n      <td>17.1</td>\n      <td>280.0</td>\n      <td>DI</td>\n      <td>272.0</td>\n      <td>2.0</td>\n      <td>Automatic</td>\n      <td>10</td>\n      <td>MacPherson Strut</td>\n      <td>Link type</td>\n      <td>1</td>\n      <td>1</td>\n      <td>0</td>\n      <td>1</td>\n      <td>0</td>\n      <td>1</td>\n      <td>1</td>\n      <td>1</td>\n      <td>1</td>\n      <td>1</td>\n      <td>1</td>\n      <td>0</td>\n      <td>0</td>\n      <td>0</td>\n      <td>0</td>\n      <td>1</td>\n      <td>1</td>\n      <td>1</td>\n      <td>50000.0</td>\n      <td>4.0</td>\n      <td>150000.0</td>\n      <td>5.0</td>\n      <td>70000.0</td>\n      <td>6.0</td>\n      <td>39.0</td>\n      <td>Aluminum</td>\n      <td>NaN</td>\n      <td>NaN</td>\n      <td>50000.0</td>\n      <td>Acura</td>\n      <td>2019</td>\n      <td>SUV</td>\n      <td>235</td>\n      <td>55.0</td>\n      <td>H</td>\n      <td>19.0</td>\n    </tr>\n    <tr>\n      <th>4</th>\n      <td>42600.0</td>\n      <td>21.0</td>\n      <td>l4</td>\n      <td>AWD</td>\n      <td>5</td>\n      <td>4</td>\n      <td>4026.0</td>\n      <td>104.0</td>\n      <td>108.3</td>\n      <td>64.2</td>\n      <td>65.7</td>\n      <td>17.1</td>\n      <td>280.0</td>\n      <td>DI</td>\n      <td>272.0</td>\n      <td>2.0</td>\n      <td>Automatic</td>\n      <td>10</td>\n      <td>MacPherson Strut</td>\n      <td>Link type</td>\n      <td>1</td>\n      <td>1</td>\n      <td>0</td>\n      <td>1</td>\n      <td>0</td>\n      <td>1</td>\n      <td>1</td>\n      <td>1</td>\n      <td>1</td>\n      <td>1</td>\n      <td>1</td>\n      <td>0</td>\n      <td>0</td>\n      <td>0</td>\n      <td>1</td>\n      <td>1</td>\n      <td>1</td>\n      <td>1</td>\n      <td>50000.0</td>\n      <td>4.0</td>\n      <td>150000.0</td>\n      <td>5.0</td>\n      <td>70000.0</td>\n      <td>6.0</td>\n      <td>39.0</td>\n      <td>Aluminum</td>\n      <td>NaN</td>\n      <td>NaN</td>\n      <td>50000.0</td>\n      <td>Acura</td>\n      <td>2019</td>\n      <td>SUV</td>\n      <td>235</td>\n      <td>55.0</td>\n      <td>H</td>\n      <td>19.0</td>\n    </tr>\n    <tr>\n      <th>5</th>\n      <td>47500.0</td>\n      <td>21.0</td>\n      <td>l4</td>\n      <td>AWD</td>\n      <td>5</td>\n      <td>4</td>\n      <td>4068.0</td>\n      <td>104.0</td>\n      <td>108.3</td>\n      <td>64.2</td>\n      <td>65.7</td>\n      <td>17.1</td>\n      <td>280.0</td>\n      <td>DI</td>\n      <td>272.0</td>\n      <td>2.0</td>\n      <td>Automatic</td>\n      <td>10</td>\n      <td>MacPherson Strut</td>\n      <td>Link type</td>\n      <td>1</td>\n      <td>1</td>\n      <td>0</td>\n      <td>1</td>\n      <td>0</td>\n      <td>1</td>\n      <td>1</td>\n      <td>1</td>\n      <td>1</td>\n      <td>1</td>\n      <td>1</td>\n      <td>0</td>\n      <td>0</td>\n      <td>1</td>\n      <td>1</td>\n      <td>1</td>\n      <td>1</td>\n      <td>1</td>\n      <td>50000.0</td>\n      <td>4.0</td>\n      <td>150000.0</td>\n      <td>5.0</td>\n      <td>70000.0</td>\n      <td>6.0</td>\n      <td>39.0</td>\n      <td>Aluminum</td>\n      <td>NaN</td>\n      <td>NaN</td>\n      <td>50000.0</td>\n      <td>Acura</td>\n      <td>2019</td>\n      <td>SUV</td>\n      <td>235</td>\n      <td>55.0</td>\n      <td>H</td>\n      <td>19.0</td>\n    </tr>\n    <tr>\n      <th>6</th>\n      <td>45600.0</td>\n      <td>21.0</td>\n      <td>l4</td>\n      <td>AWD</td>\n      <td>5</td>\n      <td>4</td>\n      <td>4015.0</td>\n      <td>104.0</td>\n      <td>108.3</td>\n      <td>64.2</td>\n      <td>65.7</td>\n      <td>17.1</td>\n      <td>280.0</td>\n      <td>DI</td>\n      <td>272.0</td>\n      <td>2.0</td>\n      <td>Automatic</td>\n      <td>10</td>\n      <td>MacPherson Strut</td>\n      <td>Link type</td>\n      <td>1</td>\n      <td>1</td>\n      <td>0</td>\n      <td>1</td>\n      <td>0</td>\n      <td>1</td>\n      <td>1</td>\n      <td>1</td>\n      <td>1</td>\n      <td>1</td>\n      <td>1</td>\n      <td>0</td>\n      <td>0</td>\n      <td>1</td>\n      <td>1</td>\n      <td>1</td>\n      <td>1</td>\n      <td>1</td>\n      <td>50000.0</td>\n      <td>4.0</td>\n      <td>150000.0</td>\n      <td>5.0</td>\n      <td>70000.0</td>\n      <td>6.0</td>\n      <td>39.0</td>\n      <td>Aluminum</td>\n      <td>NaN</td>\n      <td>NaN</td>\n      <td>50000.0</td>\n      <td>Acura</td>\n      <td>2019</td>\n      <td>SUV</td>\n      <td>255</td>\n      <td>45.0</td>\n      <td>V</td>\n      <td>20.0</td>\n    </tr>\n    <tr>\n      <th>7</th>\n      <td>37500.0</td>\n      <td>19.0</td>\n      <td>V6</td>\n      <td>AWD</td>\n      <td>5</td>\n      <td>4</td>\n      <td>3902.0</td>\n      <td>103.5</td>\n      <td>105.7</td>\n      <td>63.1</td>\n      <td>65.0</td>\n      <td>16.0</td>\n      <td>252.0</td>\n      <td>SFI</td>\n      <td>279.0</td>\n      <td>3.5</td>\n      <td>Automatic</td>\n      <td>6</td>\n      <td>MacPherson Strut</td>\n      <td>Link type</td>\n      <td>1</td>\n      <td>1</td>\n      <td>0</td>\n      <td>1</td>\n      <td>0</td>\n      <td>1</td>\n      <td>1</td>\n      <td>1</td>\n      <td>1</td>\n      <td>1</td>\n      <td>1</td>\n      <td>0</td>\n      <td>0</td>\n      <td>0</td>\n      <td>0</td>\n      <td>1</td>\n      <td>1</td>\n      <td>1</td>\n      <td>50000.0</td>\n      <td>4.0</td>\n      <td>150000.0</td>\n      <td>5.0</td>\n      <td>70000.0</td>\n      <td>6.0</td>\n      <td>38.9</td>\n      <td>Aluminum</td>\n      <td>NaN</td>\n      <td>NaN</td>\n      <td>50000.0</td>\n      <td>Acura</td>\n      <td>2018</td>\n      <td>SUV</td>\n      <td>235</td>\n      <td>60.0</td>\n      <td>V</td>\n      <td>18.0</td>\n    </tr>\n  </tbody>\n</table>\n</div>"
     },
     "metadata": {},
     "execution_count": 283
    }
   ],
   "source": [
    "df.head(8)"
   ]
  },
  {
   "cell_type": "code",
   "execution_count": 284,
   "metadata": {},
   "outputs": [
    {
     "output_type": "stream",
     "name": "stdout",
     "text": [
      "<class 'pandas.core.frame.DataFrame'>\nRangeIndex: 32316 entries, 0 to 32315\nData columns (total 56 columns):\nMSRP                                    32262 non-null float64\nEPA Fuel Economy Est - City (MPG)       27027 non-null float64\nEngine                                  30341 non-null object\nDrivetrain                              30600 non-null object\nPassenger Capacity                      32316 non-null int64\nPassenger Doors                         32316 non-null int64\nBase Curb Weight (lbs)                  19456 non-null float64\nPassenger Volume (ft³)                  16756 non-null float64\nWheelbase (in)                          30301 non-null float64\nTrack Width, Front (in)                 20130 non-null float64\nHeight, Overall (in)                    15628 non-null float64\nFuel Tank Capacity, Approx (gal)        15615 non-null float64\nSAE Net Torque @ RPM                    30249 non-null float64\nFuel System                             29486 non-null object\nSAE Net Horsepower @ RPM                30302 non-null float64\nDisplacement                            30169 non-null float64\nTrans Description Cont.                 30279 non-null object\nTrans Type                              30335 non-null object\nSuspension Type - Front                 32316 non-null object\nSuspension Type - Rear                  32316 non-null object\nAir Bag-Frontal-Driver                  32316 non-null int64\nAir Bag-Frontal-Passenger               32316 non-null int64\nAir Bag-Passenger Switch (On/Off)       32316 non-null int64\nAir Bag-Side Body-Front                 32316 non-null int64\nAir Bag-Side Body-Rear                  32316 non-null int64\nAir Bag-Side Head-Front                 32316 non-null int64\nAir Bag-Side Head-Rear                  32316 non-null int64\nBrakes-ABS                              32316 non-null int64\nChild Safety Rear Door Locks            32316 non-null int64\nDaytime Running Lights                  32316 non-null int64\nTraction Control                        32316 non-null int64\nNight Vision                            32316 non-null int64\nRollover Protection Bars                32316 non-null int64\nFog Lamps                               32316 non-null int64\nParking Aid                             32316 non-null int64\nTire Pressure Monitor                   32316 non-null int64\nBack-Up Camera                          32316 non-null int64\nStability Control                       32316 non-null int64\nBasic Miles/km                          30199 non-null float64\nBasic Years                             30199 non-null float64\nCorrosion Miles/km                      29312 non-null float64\nCorrosion Years                         29350 non-null float64\nDrivetrain Miles/km                     29528 non-null float64\nDrivetrain Years                        29528 non-null float64\nTurning Diameter - Curb to Curb (ft)    28885 non-null float64\nFront Wheel Material                    30333 non-null object\nStabilizer Bar Diameter - Front (in)    11207 non-null float64\nRoadside Assistance Years               11289 non-null float64\nRoadside Assistance Miles/km            25293 non-null float64\nManufacturer                            32316 non-null object\nModel year                              32316 non-null int64\nCategory                                30600 non-null object\nFront tire width                        32316 non-null object\nFront tire aspect ratio                 30304 non-null float64\nFront tire speed ratings/cons.type      26230 non-null object\nFront tire rim size                     27817 non-null float64\ndtypes: float64(23), int64(21), object(12)\nmemory usage: 13.8+ MB\n"
     ]
    }
   ],
   "source": [
    "df.info()"
   ]
  },
  {
   "source": [
    "## Data preparation"
   ],
   "cell_type": "markdown",
   "metadata": {}
  },
  {
   "source": [
    "### Drop and summirize data"
   ],
   "cell_type": "markdown",
   "metadata": {}
  },
  {
   "source": [
    "#### Drop Electric engine entries\n",
    "Remove Electrical cars from data as technically different factors have influence. Also there are proportionally few entries for that type."
   ],
   "cell_type": "markdown",
   "metadata": {}
  },
  {
   "cell_type": "code",
   "execution_count": 285,
   "metadata": {},
   "outputs": [
    {
     "output_type": "stream",
     "name": "stdout",
     "text": [
      "Number of entries with electric engines:  174\n"
     ]
    },
    {
     "output_type": "execute_result",
     "data": {
      "text/plain": [
       "(32142, 56)"
      ]
     },
     "metadata": {},
     "execution_count": 285
    }
   ],
   "source": [
    "print('Number of entries with electric engines: ', df[df['Engine'] == 'Electric'].shape[0])\n",
    "df = df[df['Engine'] != 'Electric']\n",
    "df.shape"
   ]
  },
  {
   "source": [
    "#### Drop Front tire width because many values inside are technically wrong/inconsistent "
   ],
   "cell_type": "markdown",
   "metadata": {}
  },
  {
   "cell_type": "code",
   "execution_count": 286,
   "metadata": {},
   "outputs": [
    {
     "output_type": "execute_result",
     "data": {
      "text/plain": [
       "(32142, 55)"
      ]
     },
     "metadata": {},
     "execution_count": 286
    }
   ],
   "source": [
    "df = df.drop('Front tire width', axis=1)\n",
    "df.shape"
   ]
  },
  {
   "source": [
    "#### Drop columns with missing values count above threshold"
   ],
   "cell_type": "markdown",
   "metadata": {}
  },
  {
   "cell_type": "code",
   "execution_count": 287,
   "metadata": {},
   "outputs": [],
   "source": [
    "def drop_missing_col(df, thres):\n",
    "    df_ret = df\n",
    "    for col in df.keys():\n",
    "        perc_missing = df_ret[col].isna().mean()\n",
    "        if perc_missing >= thres:\n",
    "            #print('In col: {} missing {:.4f}'.format(col, perc_missing))\n",
    "            df_ret = df_ret.drop([col], axis=1)\n",
    "    return df_ret"
   ]
  },
  {
   "cell_type": "code",
   "execution_count": 288,
   "metadata": {},
   "outputs": [
    {
     "output_type": "execute_result",
     "data": {
      "text/plain": [
       "MSRP                                     0.155560\n",
       "EPA Fuel Economy Est - City (MPG)       15.913758\n",
       "Engine                                   6.144608\n",
       "Drivetrain                               5.338809\n",
       "Passenger Capacity                       0.000000\n",
       "Passenger Doors                          0.000000\n",
       "Base Curb Weight (lbs)                  39.938398\n",
       "Passenger Volume (ft³)                  48.254620\n",
       "Wheelbase (in)                           6.269056\n",
       "Track Width, Front (in)                 37.900566\n",
       "Height, Overall (in)                    51.477817\n",
       "Fuel Tank Capacity, Approx (gal)        51.440483\n",
       "SAE Net Torque @ RPM                     6.325058\n",
       "Fuel System                              8.297555\n",
       "SAE Net Horsepower @ RPM                 6.172609\n",
       "Displacement                             6.160164\n",
       "Trans Description Cont.                  6.306390\n",
       "Trans Type                               6.153942\n",
       "Suspension Type - Front                  0.000000\n",
       "Suspension Type - Rear                   0.000000\n",
       "Air Bag-Frontal-Driver                   0.000000\n",
       "Air Bag-Frontal-Passenger                0.000000\n",
       "Air Bag-Passenger Switch (On/Off)        0.000000\n",
       "Air Bag-Side Body-Front                  0.000000\n",
       "Air Bag-Side Body-Rear                   0.000000\n",
       "Air Bag-Side Head-Front                  0.000000\n",
       "Air Bag-Side Head-Rear                   0.000000\n",
       "Brakes-ABS                               0.000000\n",
       "Child Safety Rear Door Locks             0.000000\n",
       "Daytime Running Lights                   0.000000\n",
       "Traction Control                         0.000000\n",
       "Night Vision                             0.000000\n",
       "Rollover Protection Bars                 0.000000\n",
       "Fog Lamps                                0.000000\n",
       "Parking Aid                              0.000000\n",
       "Tire Pressure Monitor                    0.000000\n",
       "Back-Up Camera                           0.000000\n",
       "Stability Control                        0.000000\n",
       "Basic Miles/km                           6.586398\n",
       "Basic Years                              6.586398\n",
       "Corrosion Miles/km                       9.137577\n",
       "Corrosion Years                          9.019352\n",
       "Drivetrain Miles/km                      8.674009\n",
       "Drivetrain Years                         8.674009\n",
       "Turning Diameter - Curb to Curb (ft)    10.627839\n",
       "Front Wheel Material                     6.169498\n",
       "Stabilizer Bar Diameter - Front (in)    65.132848\n",
       "Roadside Assistance Years               65.279074\n",
       "Roadside Assistance Miles/km            21.809470\n",
       "Manufacturer                             0.000000\n",
       "Model year                               0.000000\n",
       "Category                                 5.338809\n",
       "Front tire aspect ratio                  6.259722\n",
       "Front tire speed ratings/cons.type      18.794723\n",
       "Front tire rim size                     13.997262\n",
       "dtype: float64"
      ]
     },
     "metadata": {},
     "execution_count": 288
    }
   ],
   "source": [
    "# Display percentage of missing values\n",
    "100*df.isna().mean()"
   ]
  },
  {
   "cell_type": "code",
   "execution_count": 289,
   "metadata": {},
   "outputs": [
    {
     "output_type": "execute_result",
     "data": {
      "text/plain": [
       "(32142, 25)"
      ]
     },
     "metadata": {},
     "execution_count": 289
    }
   ],
   "source": [
    "# Threshold missing values in column: 0.1\n",
    "miss_thres_col = 0.1\n",
    "df = drop_missing_col(df, miss_thres_col)\n",
    "df.shape"
   ]
  },
  {
   "source": [
    "#### Drop columns which have constant values"
   ],
   "cell_type": "markdown",
   "metadata": {}
  },
  {
   "cell_type": "code",
   "execution_count": 290,
   "metadata": {},
   "outputs": [],
   "source": [
    "def drop_const_col(df):\n",
    "    df_ret = df\n",
    "    for col in df.keys():\n",
    "        num_unique = df_ret[col].nunique()\n",
    "        if num_unique <= 1:\n",
    "            #print('In col: {} num unique {}'.format(col, num_unique))\n",
    "            df_ret = df_ret.drop([col], axis=1)\n",
    "    return df_ret"
   ]
  },
  {
   "cell_type": "code",
   "execution_count": 291,
   "metadata": {},
   "outputs": [
    {
     "output_type": "execute_result",
     "data": {
      "text/plain": [
       "(32142, 25)"
      ]
     },
     "metadata": {},
     "execution_count": 291
    }
   ],
   "source": [
    "df = drop_const_col(df)\n",
    "df.shape"
   ]
  },
  {
   "source": [
    "#### Drop possible duplicates"
   ],
   "cell_type": "markdown",
   "metadata": {}
  },
  {
   "cell_type": "code",
   "execution_count": 292,
   "metadata": {},
   "outputs": [
    {
     "output_type": "execute_result",
     "data": {
      "text/plain": [
       "(28707, 25)"
      ]
     },
     "metadata": {},
     "execution_count": 292
    }
   ],
   "source": [
    "df = df.drop_duplicates()\n",
    "df.shape"
   ]
  },
  {
   "source": [
    "#### Drop rows with missing values"
   ],
   "cell_type": "markdown",
   "metadata": {}
  },
  {
   "cell_type": "code",
   "execution_count": 293,
   "metadata": {},
   "outputs": [
    {
     "output_type": "execute_result",
     "data": {
      "text/plain": [
       "(28687, 25)"
      ]
     },
     "metadata": {},
     "execution_count": 293
    }
   ],
   "source": [
    "df = df.dropna()\n",
    "df.shape"
   ]
  },
  {
   "source": [
    "#### Remap some of the categorical values"
   ],
   "cell_type": "markdown",
   "metadata": {}
  },
  {
   "cell_type": "code",
   "execution_count": 294,
   "metadata": {},
   "outputs": [],
   "source": [
    "# Map same types of engines\n",
    "repl_dict_engine = {\n",
    "    \"I6\" : \"l6\"\n",
    "}\n",
    "df = df.replace(repl_dict_engine)"
   ]
  },
  {
   "cell_type": "code",
   "execution_count": 295,
   "metadata": {},
   "outputs": [],
   "source": [
    "# Map same types of drivetrains\n",
    "repl_dict_drtrain = {\n",
    "    \"AWD\" : \"4WD\"\n",
    "}\n",
    "df = df.replace(repl_dict_drtrain)"
   ]
  },
  {
   "cell_type": "code",
   "execution_count": 296,
   "metadata": {},
   "outputs": [],
   "source": [
    "# Map same types of front wheel material\n",
    "repl_dict_wheel = {\n",
    "    \"Alloy\" : \"Aluminum\"\n",
    "}\n",
    "df = df.replace(repl_dict_wheel)"
   ]
  },
  {
   "source": [
    "#### Display dataset again"
   ],
   "cell_type": "markdown",
   "metadata": {}
  },
  {
   "cell_type": "code",
   "execution_count": 297,
   "metadata": {},
   "outputs": [
    {
     "output_type": "execute_result",
     "data": {
      "text/plain": [
       "      MSRP  Passenger Capacity  Passenger Doors Suspension Type - Front  \\\n",
       "0  40600.0                   5                4        MacPherson Strut   \n",
       "1  45500.0                   5                4        MacPherson Strut   \n",
       "2  43600.0                   5                4        MacPherson Strut   \n",
       "3  37400.0                   5                4        MacPherson Strut   \n",
       "4  42600.0                   5                4        MacPherson Strut   \n",
       "\n",
       "  Suspension Type - Rear  Air Bag-Frontal-Driver  Air Bag-Frontal-Passenger  \\\n",
       "0              Link type                       1                          1   \n",
       "1              Link type                       1                          1   \n",
       "2              Link type                       1                          1   \n",
       "3              Link type                       1                          1   \n",
       "4              Link type                       1                          1   \n",
       "\n",
       "   Air Bag-Passenger Switch (On/Off)  Air Bag-Side Body-Front  \\\n",
       "0                                  0                        1   \n",
       "1                                  0                        1   \n",
       "2                                  0                        1   \n",
       "3                                  0                        1   \n",
       "4                                  0                        1   \n",
       "\n",
       "   Air Bag-Side Body-Rear  Air Bag-Side Head-Front  Air Bag-Side Head-Rear  \\\n",
       "0                       0                        1                       1   \n",
       "1                       0                        1                       1   \n",
       "2                       0                        1                       1   \n",
       "3                       0                        1                       1   \n",
       "4                       0                        1                       1   \n",
       "\n",
       "   Brakes-ABS  Child Safety Rear Door Locks  Daytime Running Lights  \\\n",
       "0           1                             1                       1   \n",
       "1           1                             1                       1   \n",
       "2           1                             1                       1   \n",
       "3           1                             1                       1   \n",
       "4           1                             1                       1   \n",
       "\n",
       "   Traction Control  Night Vision  Rollover Protection Bars  Fog Lamps  \\\n",
       "0                 1             0                         0          0   \n",
       "1                 1             0                         0          1   \n",
       "2                 1             0                         0          1   \n",
       "3                 1             0                         0          0   \n",
       "4                 1             0                         0          0   \n",
       "\n",
       "   Parking Aid  Tire Pressure Monitor  Back-Up Camera  Stability Control  \\\n",
       "0            1                      1               1                  1   \n",
       "1            1                      1               1                  1   \n",
       "2            1                      1               1                  1   \n",
       "3            0                      1               1                  1   \n",
       "4            1                      1               1                  1   \n",
       "\n",
       "  Manufacturer  Model year  \n",
       "0        Acura        2019  \n",
       "1        Acura        2019  \n",
       "2        Acura        2019  \n",
       "3        Acura        2019  \n",
       "4        Acura        2019  "
      ],
      "text/html": "<div>\n<style scoped>\n    .dataframe tbody tr th:only-of-type {\n        vertical-align: middle;\n    }\n\n    .dataframe tbody tr th {\n        vertical-align: top;\n    }\n\n    .dataframe thead th {\n        text-align: right;\n    }\n</style>\n<table border=\"1\" class=\"dataframe\">\n  <thead>\n    <tr style=\"text-align: right;\">\n      <th></th>\n      <th>MSRP</th>\n      <th>Passenger Capacity</th>\n      <th>Passenger Doors</th>\n      <th>Suspension Type - Front</th>\n      <th>Suspension Type - Rear</th>\n      <th>Air Bag-Frontal-Driver</th>\n      <th>Air Bag-Frontal-Passenger</th>\n      <th>Air Bag-Passenger Switch (On/Off)</th>\n      <th>Air Bag-Side Body-Front</th>\n      <th>Air Bag-Side Body-Rear</th>\n      <th>Air Bag-Side Head-Front</th>\n      <th>Air Bag-Side Head-Rear</th>\n      <th>Brakes-ABS</th>\n      <th>Child Safety Rear Door Locks</th>\n      <th>Daytime Running Lights</th>\n      <th>Traction Control</th>\n      <th>Night Vision</th>\n      <th>Rollover Protection Bars</th>\n      <th>Fog Lamps</th>\n      <th>Parking Aid</th>\n      <th>Tire Pressure Monitor</th>\n      <th>Back-Up Camera</th>\n      <th>Stability Control</th>\n      <th>Manufacturer</th>\n      <th>Model year</th>\n    </tr>\n  </thead>\n  <tbody>\n    <tr>\n      <th>0</th>\n      <td>40600.0</td>\n      <td>5</td>\n      <td>4</td>\n      <td>MacPherson Strut</td>\n      <td>Link type</td>\n      <td>1</td>\n      <td>1</td>\n      <td>0</td>\n      <td>1</td>\n      <td>0</td>\n      <td>1</td>\n      <td>1</td>\n      <td>1</td>\n      <td>1</td>\n      <td>1</td>\n      <td>1</td>\n      <td>0</td>\n      <td>0</td>\n      <td>0</td>\n      <td>1</td>\n      <td>1</td>\n      <td>1</td>\n      <td>1</td>\n      <td>Acura</td>\n      <td>2019</td>\n    </tr>\n    <tr>\n      <th>1</th>\n      <td>45500.0</td>\n      <td>5</td>\n      <td>4</td>\n      <td>MacPherson Strut</td>\n      <td>Link type</td>\n      <td>1</td>\n      <td>1</td>\n      <td>0</td>\n      <td>1</td>\n      <td>0</td>\n      <td>1</td>\n      <td>1</td>\n      <td>1</td>\n      <td>1</td>\n      <td>1</td>\n      <td>1</td>\n      <td>0</td>\n      <td>0</td>\n      <td>1</td>\n      <td>1</td>\n      <td>1</td>\n      <td>1</td>\n      <td>1</td>\n      <td>Acura</td>\n      <td>2019</td>\n    </tr>\n    <tr>\n      <th>2</th>\n      <td>43600.0</td>\n      <td>5</td>\n      <td>4</td>\n      <td>MacPherson Strut</td>\n      <td>Link type</td>\n      <td>1</td>\n      <td>1</td>\n      <td>0</td>\n      <td>1</td>\n      <td>0</td>\n      <td>1</td>\n      <td>1</td>\n      <td>1</td>\n      <td>1</td>\n      <td>1</td>\n      <td>1</td>\n      <td>0</td>\n      <td>0</td>\n      <td>1</td>\n      <td>1</td>\n      <td>1</td>\n      <td>1</td>\n      <td>1</td>\n      <td>Acura</td>\n      <td>2019</td>\n    </tr>\n    <tr>\n      <th>3</th>\n      <td>37400.0</td>\n      <td>5</td>\n      <td>4</td>\n      <td>MacPherson Strut</td>\n      <td>Link type</td>\n      <td>1</td>\n      <td>1</td>\n      <td>0</td>\n      <td>1</td>\n      <td>0</td>\n      <td>1</td>\n      <td>1</td>\n      <td>1</td>\n      <td>1</td>\n      <td>1</td>\n      <td>1</td>\n      <td>0</td>\n      <td>0</td>\n      <td>0</td>\n      <td>0</td>\n      <td>1</td>\n      <td>1</td>\n      <td>1</td>\n      <td>Acura</td>\n      <td>2019</td>\n    </tr>\n    <tr>\n      <th>4</th>\n      <td>42600.0</td>\n      <td>5</td>\n      <td>4</td>\n      <td>MacPherson Strut</td>\n      <td>Link type</td>\n      <td>1</td>\n      <td>1</td>\n      <td>0</td>\n      <td>1</td>\n      <td>0</td>\n      <td>1</td>\n      <td>1</td>\n      <td>1</td>\n      <td>1</td>\n      <td>1</td>\n      <td>1</td>\n      <td>0</td>\n      <td>0</td>\n      <td>0</td>\n      <td>1</td>\n      <td>1</td>\n      <td>1</td>\n      <td>1</td>\n      <td>Acura</td>\n      <td>2019</td>\n    </tr>\n  </tbody>\n</table>\n</div>"
     },
     "metadata": {},
     "execution_count": 297
    }
   ],
   "source": [
    "df.head()"
   ]
  },
  {
   "source": [
    "#### Create name lists with the data types"
   ],
   "cell_type": "markdown",
   "metadata": {}
  },
  {
   "cell_type": "code",
   "execution_count": 298,
   "metadata": {},
   "outputs": [],
   "source": [
    "def fill_type_lists(df, list_labeled, list_numerical, list_categorical):\n",
    "    for col in df.columns:\n",
    "        data_type = df[col].dtypes\n",
    "        # Object data\n",
    "        if data_type == 'object':\n",
    "            list_categorical.append(col)\n",
    "        elif col in list_labeled:\n",
    "            pass\n",
    "        # Discrete/labeled data. Threshold 0.1 => about 278 labels\n",
    "        elif df[col].nunique() <= 3 and data_type == 'int' and col != 'Model year':\n",
    "            list_labeled.append(col)\n",
    "        # Floats and countable integers\n",
    "        else:\n",
    "            list_numerical.append(col)"
   ]
  },
  {
   "cell_type": "code",
   "execution_count": 299,
   "metadata": {},
   "outputs": [],
   "source": [
    "global list_labeled\n",
    "global list_numerical\n",
    "global list_categorical\n",
    "list_labeled = []\n",
    "list_numerical = []\n",
    "list_categorical = []\n"
   ]
  },
  {
   "cell_type": "code",
   "execution_count": 300,
   "metadata": {},
   "outputs": [],
   "source": [
    "list_labeled.append('Passenger Capacity')\n",
    "list_labeled.append('Passenger Doors')\n",
    "fill_type_lists(df, list_labeled, list_numerical, list_categorical)"
   ]
  },
  {
   "source": [
    "### Outlier detection and removal"
   ],
   "cell_type": "markdown",
   "metadata": {}
  },
  {
   "cell_type": "code",
   "execution_count": 301,
   "metadata": {},
   "outputs": [],
   "source": [
    "def detect_outliers(df):\n",
    "    for col in df.keys():\n",
    "        if col in list_numerical:\n",
    "            q3 = df[col].quantile(0.75)\n",
    "            q1 = df[col].quantile(0.25)\n",
    "            iqr = q3 - q1\n",
    "            upper_bound = q3 + iqr*1.5\n",
    "            lower_bound = q1 - iqr*1.5\n",
    "            df_temp = df[(df[col] > lower_bound) & (df[col] < upper_bound)]\n",
    "            print('Col: {}. Lower: {}. Upper: {}. Outlier proportion {}\\n'.\\\n",
    "                format(col, lower_bound, upper_bound, (df.shape[0] - df_temp.shape[0])/df.shape[0]))"
   ]
  },
  {
   "cell_type": "code",
   "execution_count": 302,
   "metadata": {},
   "outputs": [
    {
     "output_type": "stream",
     "name": "stdout",
     "text": [
      "Col: MSRP. Lower: -3975.0. Upper: 67985.0. Outlier proportion 0.07916477847108447\n\nCol: Model year. Lower: 1990.0. Upper: 2030.0. Outlier proportion 0.007529542998570781\n\n"
     ]
    }
   ],
   "source": [
    "detect_outliers(df)"
   ]
  },
  {
   "cell_type": "code",
   "execution_count": 303,
   "metadata": {},
   "outputs": [
    {
     "output_type": "execute_result",
     "data": {
      "text/plain": [
       "['Passenger Capacity',\n",
       " 'Passenger Doors',\n",
       " 'Air Bag-Frontal-Driver',\n",
       " 'Air Bag-Frontal-Passenger',\n",
       " 'Air Bag-Passenger Switch (On/Off)',\n",
       " 'Air Bag-Side Body-Front',\n",
       " 'Air Bag-Side Body-Rear',\n",
       " 'Air Bag-Side Head-Front',\n",
       " 'Air Bag-Side Head-Rear',\n",
       " 'Brakes-ABS',\n",
       " 'Child Safety Rear Door Locks',\n",
       " 'Daytime Running Lights',\n",
       " 'Traction Control',\n",
       " 'Night Vision',\n",
       " 'Rollover Protection Bars',\n",
       " 'Fog Lamps',\n",
       " 'Parking Aid',\n",
       " 'Tire Pressure Monitor',\n",
       " 'Back-Up Camera',\n",
       " 'Stability Control']"
      ]
     },
     "metadata": {},
     "execution_count": 303
    }
   ],
   "source": [
    "list_labeled"
   ]
  },
  {
   "source": [
    "### Use Inter quartile range of the target variable"
   ],
   "cell_type": "markdown",
   "metadata": {}
  },
  {
   "cell_type": "code",
   "execution_count": 304,
   "metadata": {},
   "outputs": [
    {
     "output_type": "stream",
     "name": "stdout",
     "text": [
      "Lower bound: -3975.000, upper bound: 67985.000\nPercentiles: 25th=23010.000, 75th=41000.000, IQR=17990.000\nMean: 38091.75846202113\nStDev: 33741.803367816676\nmedian: 30520.0\n"
     ]
    }
   ],
   "source": [
    "# Calculate some descriptive statistics \n",
    "mean = np.mean(df['MSRP'])\n",
    "median = np.percentile(df['MSRP'], 50)\n",
    "stdev= np.std(df['MSRP'])\n",
    "q25, q75 = np.percentile(df['MSRP'], 25), np.percentile(df['MSRP'], 75)\n",
    "iqr = q75 - q25\n",
    "cut_off = iqr * 1.5\n",
    "price_lower_bound, price_upper_bound = q25 - cut_off, q75 + cut_off\n",
    "print('Lower bound: %.3f, upper bound: %.3f' % (price_lower_bound, price_upper_bound))\n",
    "print('Percentiles: 25th=%.3f, 75th=%.3f, IQR=%.3f' % (q25, q75, iqr))\n",
    "print('Mean:', mean)\n",
    "print('StDev:', stdev)\n",
    "print('median:', median)"
   ]
  },
  {
   "cell_type": "code",
   "execution_count": 305,
   "metadata": {},
   "outputs": [],
   "source": [
    "# Cut entries outside the IQR\n",
    "df = df[df['MSRP'] <= price_upper_bound]"
   ]
  },
  {
   "cell_type": "code",
   "execution_count": 306,
   "metadata": {},
   "outputs": [
    {
     "output_type": "execute_result",
     "data": {
      "text/plain": [
       "(26416, 25)"
      ]
     },
     "metadata": {},
     "execution_count": 306
    }
   ],
   "source": [
    "df.shape"
   ]
  },
  {
   "source": [
    "### Encode the categorical features"
   ],
   "cell_type": "markdown",
   "metadata": {}
  },
  {
   "cell_type": "code",
   "execution_count": 307,
   "metadata": {},
   "outputs": [],
   "source": [
    "def one_hot_encoder(df, col_to_encode, dummy_na=False):\n",
    "    '''\n",
    "    INPUT:\n",
    "    df - pandas dataframe with categorical variables you want to dummy\n",
    "    dummy_na - Bool holding whether you want to dummy NA vals of categorical columns or not\n",
    "    '''\n",
    "    df_ret = df\n",
    "    \n",
    "    for col in col_to_encode:\n",
    "        df_ret = pd.concat([df_ret.drop(col, axis=1),pd.get_dummies(df_ret[col], prefix=col,\\\n",
    "            dummy_na=dummy_na, drop_first=True)],axis=1)\n",
    "    return df_ret"
   ]
  },
  {
   "cell_type": "code",
   "execution_count": 308,
   "metadata": {},
   "outputs": [],
   "source": [
    "df = one_hot_encoder(df, list_categorical)\n",
    "df = one_hot_encoder(df, list_labeled)"
   ]
  },
  {
   "cell_type": "code",
   "execution_count": 309,
   "metadata": {},
   "outputs": [
    {
     "output_type": "execute_result",
     "data": {
      "text/plain": [
       "Suspension Type - Rear_Others              -0.208658\n",
       "Suspension Type - Rear_Torsion Bar         -0.204699\n",
       "Suspension Type - Front_Others             -0.196590\n",
       "Manufacturer_Hyundai                       -0.167721\n",
       "Passenger Capacity_3                       -0.148975\n",
       "Manufacturer_Subaru                        -0.142770\n",
       "Suspension Type - Front_MacPherson Strut   -0.130451\n",
       "Manufacturer_Volkswagen                    -0.124310\n",
       "Passenger Doors_2                          -0.123218\n",
       "Manufacturer_Honda                         -0.120307\n",
       "Manufacturer_Kia                           -0.115339\n",
       "Manufacturer_Mitsubishi                    -0.109548\n",
       "Manufacturer_Toyota                        -0.107726\n",
       "Manufacturer_Mazda                         -0.084114\n",
       "Air Bag-Passenger Switch (On/Off)_1        -0.082628\n",
       "Suspension Type - Rear_MacPherson Strut    -0.079339\n",
       "Passenger Capacity_5                       -0.074086\n",
       "Manufacturer_Nissan                        -0.072411\n",
       "Manufacturer_Ford                          -0.071504\n",
       "Manufacturer_Jeep                          -0.051406\n",
       "Suspension Type - Rear_Independent         -0.050759\n",
       "Suspension Type - Rear_Double Wishbone     -0.048458\n",
       "Manufacturer_Fiat                          -0.046123\n",
       "Manufacturer_Smart                         -0.045836\n",
       "Suspension Type - Front_Torsion Bar        -0.029553\n",
       "Manufacturer_Mini                          -0.025578\n",
       "Suspension Type - Front_Axle               -0.017945\n",
       "Suspension Type - Front_Coil Spring        -0.012249\n",
       "Suspension Type - Front_Leaf type          -0.005523\n",
       "Manufacturer_Buick                          0.005276\n",
       "                                              ...   \n",
       "Manufacturer_Volvo                          0.116059\n",
       "Manufacturer_Land Rover                     0.119028\n",
       "Manufacturer_Lincoln                        0.119560\n",
       "Manufacturer_Porsche                        0.127411\n",
       "Manufacturer_Audi                           0.150194\n",
       "Suspension Type - Front_Link type           0.158624\n",
       "Passenger Capacity_8                        0.160146\n",
       "Manufacturer_Jaguar                         0.177425\n",
       "Manufacturer_Cadillac                       0.194594\n",
       "Manufacturer_Mercedes-Benz                  0.198818\n",
       "Passenger Capacity_7                        0.200332\n",
       "Air Bag-Frontal-Driver_1                    0.212631\n",
       "Manufacturer_BMW                            0.215435\n",
       "Suspension Type - Rear_Link type            0.216576\n",
       "Passenger Doors_4                           0.221777\n",
       "Suspension Type - Front_Double Wishbone     0.239074\n",
       "Air Bag-Frontal-Passenger_1                 0.248731\n",
       "Daytime Running Lights_1                    0.276303\n",
       "Air Bag-Side Head-Rear_1                    0.309826\n",
       "Air Bag-Side Head-Front_1                   0.334069\n",
       "Air Bag-Side Body-Front_1                   0.344359\n",
       "Fog Lamps_1                                 0.346400\n",
       "Tire Pressure Monitor_1                     0.364264\n",
       "Brakes-ABS_1                                0.382167\n",
       "Back-Up Camera_1                            0.411424\n",
       "Model year                                  0.443169\n",
       "Stability Control_1                         0.452336\n",
       "Traction Control_1                          0.460604\n",
       "Parking Aid_1                               0.485314\n",
       "MSRP                                        1.000000\n",
       "Name: MSRP, Length: 85, dtype: float64"
      ]
     },
     "metadata": {},
     "execution_count": 309
    }
   ],
   "source": [
    "#plt.figure(figsize=(10,5))\n",
    "c = df.corr()['MSRP'].sort_values()\n",
    "#sns.heatmap(c,cmap='BrBG', annot= True)\n",
    "c"
   ]
  },
  {
   "source": [
    "### Split into feature set and target vector"
   ],
   "cell_type": "markdown",
   "metadata": {}
  },
  {
   "cell_type": "code",
   "execution_count": 310,
   "metadata": {},
   "outputs": [],
   "source": [
    "X = df.drop('MSRP', axis=1)\n",
    "y = df['MSRP']"
   ]
  },
  {
   "source": [
    "### Train test split"
   ],
   "cell_type": "markdown",
   "metadata": {}
  },
  {
   "cell_type": "code",
   "execution_count": 311,
   "metadata": {},
   "outputs": [],
   "source": [
    "X_train, X_test, y_train, y_test = train_test_split(X, y, test_size = 0.30, random_state=42) "
   ]
  },
  {
   "source": [
    "### Feature scaling"
   ],
   "cell_type": "markdown",
   "metadata": {}
  },
  {
   "cell_type": "code",
   "execution_count": 312,
   "metadata": {},
   "outputs": [],
   "source": [
    "scaler = StandardScaler()\n",
    "scaler.fit(X_train)\n",
    "X_train = pd.DataFrame(scaler.transform(X_train), index=X_train.index, columns=X_train.columns)\n",
    "X_test = pd.DataFrame(scaler.transform(X_test), index=X_test.index, columns=X_test.columns)"
   ]
  },
  {
   "cell_type": "code",
   "execution_count": 313,
   "metadata": {},
   "outputs": [
    {
     "output_type": "execute_result",
     "data": {
      "text/plain": [
       "       Model year  Suspension Type - Front_Axle  \\\n",
       "25206    0.394465                     -0.074477   \n",
       "11156   -0.835814                     -0.074477   \n",
       "9212    -1.519303                     -0.074477   \n",
       "1686     1.351349                     -0.074477   \n",
       "7679    -0.015628                     -0.074477   \n",
       "\n",
       "       Suspension Type - Front_Coil Spring  \\\n",
       "25206                            -0.305875   \n",
       "11156                            -0.305875   \n",
       "9212                             -0.305875   \n",
       "1686                             -0.305875   \n",
       "7679                             -0.305875   \n",
       "\n",
       "       Suspension Type - Front_Double Wishbone  \\\n",
       "25206                                -0.440682   \n",
       "11156                                -0.440682   \n",
       "9212                                 -0.440682   \n",
       "1686                                 -0.440682   \n",
       "7679                                  2.269211   \n",
       "\n",
       "       Suspension Type - Front_Independent  Suspension Type - Front_Leaf type  \\\n",
       "25206                             2.221308                          -0.065086   \n",
       "11156                            -0.450185                          15.364378   \n",
       "9212                             -0.450185                          -0.065086   \n",
       "1686                             -0.450185                          -0.065086   \n",
       "7679                             -0.450185                          -0.065086   \n",
       "\n",
       "       Suspension Type - Front_Link type  \\\n",
       "25206                           -0.20432   \n",
       "11156                           -0.20432   \n",
       "9212                            -0.20432   \n",
       "1686                            -0.20432   \n",
       "7679                            -0.20432   \n",
       "\n",
       "       Suspension Type - Front_MacPherson Strut  \\\n",
       "25206                                 -0.803914   \n",
       "11156                                 -0.803914   \n",
       "9212                                  -0.803914   \n",
       "1686                                   1.243913   \n",
       "7679                                  -0.803914   \n",
       "\n",
       "       Suspension Type - Front_Others  Suspension Type - Front_Torsion Bar  \\\n",
       "25206                       -0.296584                            -0.251741   \n",
       "11156                       -0.296584                            -0.251741   \n",
       "9212                        -0.296584                             3.972341   \n",
       "1686                        -0.296584                            -0.251741   \n",
       "7679                        -0.296584                            -0.251741   \n",
       "\n",
       "       Suspension Type - Rear_Axle  Suspension Type - Rear_Coil Spring  \\\n",
       "25206                    -0.137069                            6.657408   \n",
       "11156                    -0.137069                           -0.150209   \n",
       "9212                     -0.137069                           -0.150209   \n",
       "1686                     -0.137069                           -0.150209   \n",
       "7679                     -0.137069                           -0.150209   \n",
       "\n",
       "       Suspension Type - Rear_Double Wishbone  \\\n",
       "25206                               -0.263791   \n",
       "11156                               -0.263791   \n",
       "9212                                -0.263791   \n",
       "1686                                -0.263791   \n",
       "7679                                -0.263791   \n",
       "\n",
       "       Suspension Type - Rear_Independent  Suspension Type - Rear_Leaf type  \\\n",
       "25206                           -0.293877                         -0.337415   \n",
       "11156                           -0.293877                         -0.337415   \n",
       "9212                            -0.293877                         -0.337415   \n",
       "1686                            -0.293877                         -0.337415   \n",
       "7679                            -0.293877                         -0.337415   \n",
       "\n",
       "       Suspension Type - Rear_Link type  \\\n",
       "25206                         -1.088779   \n",
       "11156                          0.918460   \n",
       "9212                           0.918460   \n",
       "1686                           0.918460   \n",
       "7679                           0.918460   \n",
       "\n",
       "       Suspension Type - Rear_MacPherson Strut  Suspension Type - Rear_Others  \\\n",
       "25206                                -0.155762                      -0.304393   \n",
       "11156                                -0.155762                      -0.304393   \n",
       "9212                                 -0.155762                      -0.304393   \n",
       "1686                                 -0.155762                      -0.304393   \n",
       "7679                                 -0.155762                      -0.304393   \n",
       "\n",
       "       Suspension Type - Rear_Torsion Bar  Manufacturer_Alfa Romeo  \\\n",
       "25206                           -0.254884                -0.025483   \n",
       "11156                           -0.254884                -0.025483   \n",
       "9212                            -0.254884                -0.025483   \n",
       "1686                            -0.254884                -0.025483   \n",
       "7679                            -0.254884                -0.025483   \n",
       "\n",
       "       Manufacturer_Audi  Manufacturer_BMW  Manufacturer_Buick  \\\n",
       "25206          -0.178343         -0.176885           -0.116594   \n",
       "11156          -0.178343         -0.176885           -0.116594   \n",
       "9212           -0.178343         -0.176885           -0.116594   \n",
       "1686           -0.178343          5.653387           -0.116594   \n",
       "7679           -0.178343         -0.176885           -0.116594   \n",
       "\n",
       "       Manufacturer_Cadillac  Manufacturer_Chevrolet  Manufacturer_Chrysler  \\\n",
       "25206              -0.120811               -0.334624              -0.079798   \n",
       "11156              -0.120811               -0.334624              -0.079798   \n",
       "9212               -0.120811               -0.334624              -0.079798   \n",
       "1686               -0.120811               -0.334624              -0.079798   \n",
       "7679               -0.120811               -0.334624              -0.079798   \n",
       "\n",
       "       Manufacturer_Dodge  Manufacturer_Fiat  Manufacturer_Ford  \\\n",
       "25206           -0.122868          -0.061201          -0.420026   \n",
       "11156           -0.122868          -0.061201           2.380804   \n",
       "9212            -0.122868          -0.061201           2.380804   \n",
       "1686            -0.122868          -0.061201          -0.420026   \n",
       "7679            -0.122868          -0.061201           2.380804   \n",
       "\n",
       "       Manufacturer_GMC  Manufacturer_Genesis  Manufacturer_Honda  \\\n",
       "25206         -0.285321             -0.026524           -0.247092   \n",
       "11156         -0.285321             -0.026524           -0.247092   \n",
       "9212          -0.285321             -0.026524           -0.247092   \n",
       "1686          -0.285321             -0.026524           -0.247092   \n",
       "7679          -0.285321             -0.026524           -0.247092   \n",
       "\n",
       "       Manufacturer_Hyundai  Manufacturer_Infiniti  Manufacturer_Jaguar  \\\n",
       "25206             -0.182498              -0.086078            -0.087658   \n",
       "11156             -0.182498              -0.086078            -0.087658   \n",
       "9212              -0.182498              -0.086078            -0.087658   \n",
       "1686              -0.182498              -0.086078            -0.087658   \n",
       "7679              -0.182498              -0.086078            -0.087658   \n",
       "\n",
       "       Manufacturer_Jeep  Manufacturer_Kia  Manufacturer_Land Rover  \\\n",
       "25206          -0.153747          -0.16585                -0.074477   \n",
       "11156          -0.153747          -0.16585                -0.074477   \n",
       "9212           -0.153747          -0.16585                -0.074477   \n",
       "1686           -0.153747          -0.16585                -0.074477   \n",
       "7679           -0.153747          -0.16585                -0.074477   \n",
       "\n",
       "       Manufacturer_Lexus  Manufacturer_Lincoln  Manufacturer_Lotus  \\\n",
       "25206           -0.084469             -0.096041           -0.012738   \n",
       "11156           -0.084469             -0.096041           -0.012738   \n",
       "9212            -0.084469             -0.096041           -0.012738   \n",
       "1686            -0.084469             -0.096041           -0.012738   \n",
       "7679            -0.084469             -0.096041           -0.012738   \n",
       "\n",
       "       Manufacturer_Maserati  Manufacturer_Mazda  Manufacturer_Mercedes-Benz  \\\n",
       "25206                    0.0           -0.162199                   -0.142695   \n",
       "11156                    0.0           -0.162199                   -0.142695   \n",
       "9212                     0.0           -0.162199                   -0.142695   \n",
       "1686                     0.0           -0.162199                   -0.142695   \n",
       "7679                     0.0           -0.162199                   -0.142695   \n",
       "\n",
       "       Manufacturer_Mini  Manufacturer_Mitsubishi  Manufacturer_Nissan  \\\n",
       "25206          -0.061201                -0.106142            -0.281759   \n",
       "11156          -0.061201                -0.106142            -0.281759   \n",
       "9212           -0.061201                -0.106142            -0.281759   \n",
       "1686           -0.061201                -0.106142            -0.281759   \n",
       "7679           -0.061201                -0.106142            -0.281759   \n",
       "\n",
       "       Manufacturer_Porsche  Manufacturer_Ram  Manufacturer_Smart  \\\n",
       "25206             -0.055607          5.919868           -0.034514   \n",
       "11156             -0.055607         -0.168923           -0.034514   \n",
       "9212              -0.055607         -0.168923           -0.034514   \n",
       "1686              -0.055607         -0.168923           -0.034514   \n",
       "7679              -0.055607         -0.168923           -0.034514   \n",
       "\n",
       "       Manufacturer_Subaru  Manufacturer_Toyota  Manufacturer_Volkswagen  \\\n",
       "25206            -0.222602            -0.330713                 -0.21815   \n",
       "11156            -0.222602            -0.330713                 -0.21815   \n",
       "9212             -0.222602            -0.330713                 -0.21815   \n",
       "1686             -0.222602            -0.330713                 -0.21815   \n",
       "7679             -0.222602            -0.330713                 -0.21815   \n",
       "\n",
       "       Manufacturer_Volvo  Passenger Capacity_2  Passenger Capacity_3  \\\n",
       "25206           -0.121271             -0.203744             -0.253678   \n",
       "11156           -0.121271             -0.203744             -0.253678   \n",
       "9212            -0.121271             -0.203744              3.941999   \n",
       "1686            -0.121271             -0.203744             -0.253678   \n",
       "7679            -0.121271             -0.203744              3.941999   \n",
       "\n",
       "       Passenger Capacity_4  Passenger Capacity_5  Passenger Capacity_6  \\\n",
       "25206             -0.272482             -1.034391              2.582524   \n",
       "11156             -0.272482             -1.034391              2.582524   \n",
       "9212              -0.272482             -1.034391             -0.387218   \n",
       "1686              -0.272482              0.966752             -0.387218   \n",
       "7679              -0.272482             -1.034391             -0.387218   \n",
       "\n",
       "       Passenger Capacity_7  Passenger Capacity_8  Passenger Capacity_9  \\\n",
       "25206             -0.265896             -0.197028             -0.072241   \n",
       "11156             -0.265896             -0.197028             -0.072241   \n",
       "9212              -0.265896             -0.197028             -0.072241   \n",
       "1686              -0.265896             -0.197028             -0.072241   \n",
       "7679              -0.265896             -0.197028             -0.072241   \n",
       "\n",
       "       Passenger Capacity_12  Passenger Capacity_15  Passenger Doors_2  \\\n",
       "25206              -0.084144              -0.016446          -0.563964   \n",
       "11156              -0.084144              -0.016446          -0.563964   \n",
       "9212               -0.084144              -0.016446           1.773163   \n",
       "1686               -0.084144              -0.016446          -0.563964   \n",
       "7679               -0.084144              -0.016446           1.773163   \n",
       "\n",
       "       Passenger Doors_3  Passenger Doors_4  Air Bag-Frontal-Driver_1  \\\n",
       "25206          -0.148886           0.689994                  0.183445   \n",
       "11156          -0.148886           0.689994                  0.183445   \n",
       "9212           -0.148886          -1.449288                  0.183445   \n",
       "1686           -0.148886           0.689994                  0.183445   \n",
       "7679           -0.148886          -1.449288                  0.183445   \n",
       "\n",
       "       Air Bag-Frontal-Passenger_1  Air Bag-Passenger Switch (On/Off)_1  \\\n",
       "25206                     0.240494                            -0.356879   \n",
       "11156                     0.240494                            -0.356879   \n",
       "9212                      0.240494                             2.802071   \n",
       "1686                      0.240494                            -0.356879   \n",
       "7679                      0.240494                            -0.356879   \n",
       "\n",
       "       Air Bag-Side Body-Front_1  Air Bag-Side Body-Rear_1  \\\n",
       "25206                   0.718351                 -0.213345   \n",
       "11156                  -1.392077                 -0.213345   \n",
       "9212                   -1.392077                 -0.213345   \n",
       "1686                    0.718351                 -0.213345   \n",
       "7679                   -1.392077                 -0.213345   \n",
       "\n",
       "       Air Bag-Side Head-Front_1  Air Bag-Side Head-Rear_1  Brakes-ABS_1  \\\n",
       "25206                   0.785347                  0.932762      0.316538   \n",
       "11156                  -1.273322                 -1.072085      0.316538   \n",
       "9212                   -1.273322                 -1.072085      0.316538   \n",
       "1686                    0.785347                  0.932762      0.316538   \n",
       "7679                   -1.273322                 -1.072085      0.316538   \n",
       "\n",
       "       Child Safety Rear Door Locks_1  Daytime Running Lights_1  \\\n",
       "25206                        0.843596                 -1.072318   \n",
       "11156                       -1.185402                 -1.072318   \n",
       "9212                        -1.185402                 -1.072318   \n",
       "1686                         0.843596                  0.932559   \n",
       "7679                        -1.185402                 -1.072318   \n",
       "\n",
       "       Traction Control_1  Rollover Protection Bars_1  Fog Lamps_1  \\\n",
       "25206            0.701293                   -0.158114     1.053852   \n",
       "11156           -1.425938                   -0.158114     1.053852   \n",
       "9212            -1.425938                   -0.158114     1.053852   \n",
       "1686             0.701293                   -0.158114     1.053852   \n",
       "7679            -1.425938                   -0.158114     1.053852   \n",
       "\n",
       "       Parking Aid_1  Tire Pressure Monitor_1  Back-Up Camera_1  \\\n",
       "25206      -0.414487                 0.707652         -0.656315   \n",
       "11156      -0.414487                -1.413124         -0.656315   \n",
       "9212       -0.414487                -1.413124         -0.656315   \n",
       "1686        2.412619                 0.707652          1.523659   \n",
       "7679       -0.414487                 0.707652         -0.656315   \n",
       "\n",
       "       Stability Control_1  \n",
       "25206             0.756282  \n",
       "11156            -1.322258  \n",
       "9212             -1.322258  \n",
       "1686              0.756282  \n",
       "7679             -1.322258  "
      ],
      "text/html": "<div>\n<style scoped>\n    .dataframe tbody tr th:only-of-type {\n        vertical-align: middle;\n    }\n\n    .dataframe tbody tr th {\n        vertical-align: top;\n    }\n\n    .dataframe thead th {\n        text-align: right;\n    }\n</style>\n<table border=\"1\" class=\"dataframe\">\n  <thead>\n    <tr style=\"text-align: right;\">\n      <th></th>\n      <th>Model year</th>\n      <th>Suspension Type - Front_Axle</th>\n      <th>Suspension Type - Front_Coil Spring</th>\n      <th>Suspension Type - Front_Double Wishbone</th>\n      <th>Suspension Type - Front_Independent</th>\n      <th>Suspension Type - Front_Leaf type</th>\n      <th>Suspension Type - Front_Link type</th>\n      <th>Suspension Type - Front_MacPherson Strut</th>\n      <th>Suspension Type - Front_Others</th>\n      <th>Suspension Type - Front_Torsion Bar</th>\n      <th>Suspension Type - Rear_Axle</th>\n      <th>Suspension Type - Rear_Coil Spring</th>\n      <th>Suspension Type - Rear_Double Wishbone</th>\n      <th>Suspension Type - Rear_Independent</th>\n      <th>Suspension Type - Rear_Leaf type</th>\n      <th>Suspension Type - Rear_Link type</th>\n      <th>Suspension Type - Rear_MacPherson Strut</th>\n      <th>Suspension Type - Rear_Others</th>\n      <th>Suspension Type - Rear_Torsion Bar</th>\n      <th>Manufacturer_Alfa Romeo</th>\n      <th>Manufacturer_Audi</th>\n      <th>Manufacturer_BMW</th>\n      <th>Manufacturer_Buick</th>\n      <th>Manufacturer_Cadillac</th>\n      <th>Manufacturer_Chevrolet</th>\n      <th>Manufacturer_Chrysler</th>\n      <th>Manufacturer_Dodge</th>\n      <th>Manufacturer_Fiat</th>\n      <th>Manufacturer_Ford</th>\n      <th>Manufacturer_GMC</th>\n      <th>Manufacturer_Genesis</th>\n      <th>Manufacturer_Honda</th>\n      <th>Manufacturer_Hyundai</th>\n      <th>Manufacturer_Infiniti</th>\n      <th>Manufacturer_Jaguar</th>\n      <th>Manufacturer_Jeep</th>\n      <th>Manufacturer_Kia</th>\n      <th>Manufacturer_Land Rover</th>\n      <th>Manufacturer_Lexus</th>\n      <th>Manufacturer_Lincoln</th>\n      <th>Manufacturer_Lotus</th>\n      <th>Manufacturer_Maserati</th>\n      <th>Manufacturer_Mazda</th>\n      <th>Manufacturer_Mercedes-Benz</th>\n      <th>Manufacturer_Mini</th>\n      <th>Manufacturer_Mitsubishi</th>\n      <th>Manufacturer_Nissan</th>\n      <th>Manufacturer_Porsche</th>\n      <th>Manufacturer_Ram</th>\n      <th>Manufacturer_Smart</th>\n      <th>Manufacturer_Subaru</th>\n      <th>Manufacturer_Toyota</th>\n      <th>Manufacturer_Volkswagen</th>\n      <th>Manufacturer_Volvo</th>\n      <th>Passenger Capacity_2</th>\n      <th>Passenger Capacity_3</th>\n      <th>Passenger Capacity_4</th>\n      <th>Passenger Capacity_5</th>\n      <th>Passenger Capacity_6</th>\n      <th>Passenger Capacity_7</th>\n      <th>Passenger Capacity_8</th>\n      <th>Passenger Capacity_9</th>\n      <th>Passenger Capacity_12</th>\n      <th>Passenger Capacity_15</th>\n      <th>Passenger Doors_2</th>\n      <th>Passenger Doors_3</th>\n      <th>Passenger Doors_4</th>\n      <th>Air Bag-Frontal-Driver_1</th>\n      <th>Air Bag-Frontal-Passenger_1</th>\n      <th>Air Bag-Passenger Switch (On/Off)_1</th>\n      <th>Air Bag-Side Body-Front_1</th>\n      <th>Air Bag-Side Body-Rear_1</th>\n      <th>Air Bag-Side Head-Front_1</th>\n      <th>Air Bag-Side Head-Rear_1</th>\n      <th>Brakes-ABS_1</th>\n      <th>Child Safety Rear Door Locks_1</th>\n      <th>Daytime Running Lights_1</th>\n      <th>Traction Control_1</th>\n      <th>Rollover Protection Bars_1</th>\n      <th>Fog Lamps_1</th>\n      <th>Parking Aid_1</th>\n      <th>Tire Pressure Monitor_1</th>\n      <th>Back-Up Camera_1</th>\n      <th>Stability Control_1</th>\n    </tr>\n  </thead>\n  <tbody>\n    <tr>\n      <th>25206</th>\n      <td>0.394465</td>\n      <td>-0.074477</td>\n      <td>-0.305875</td>\n      <td>-0.440682</td>\n      <td>2.221308</td>\n      <td>-0.065086</td>\n      <td>-0.20432</td>\n      <td>-0.803914</td>\n      <td>-0.296584</td>\n      <td>-0.251741</td>\n      <td>-0.137069</td>\n      <td>6.657408</td>\n      <td>-0.263791</td>\n      <td>-0.293877</td>\n      <td>-0.337415</td>\n      <td>-1.088779</td>\n      <td>-0.155762</td>\n      <td>-0.304393</td>\n      <td>-0.254884</td>\n      <td>-0.025483</td>\n      <td>-0.178343</td>\n      <td>-0.176885</td>\n      <td>-0.116594</td>\n      <td>-0.120811</td>\n      <td>-0.334624</td>\n      <td>-0.079798</td>\n      <td>-0.122868</td>\n      <td>-0.061201</td>\n      <td>-0.420026</td>\n      <td>-0.285321</td>\n      <td>-0.026524</td>\n      <td>-0.247092</td>\n      <td>-0.182498</td>\n      <td>-0.086078</td>\n      <td>-0.087658</td>\n      <td>-0.153747</td>\n      <td>-0.16585</td>\n      <td>-0.074477</td>\n      <td>-0.084469</td>\n      <td>-0.096041</td>\n      <td>-0.012738</td>\n      <td>0.0</td>\n      <td>-0.162199</td>\n      <td>-0.142695</td>\n      <td>-0.061201</td>\n      <td>-0.106142</td>\n      <td>-0.281759</td>\n      <td>-0.055607</td>\n      <td>5.919868</td>\n      <td>-0.034514</td>\n      <td>-0.222602</td>\n      <td>-0.330713</td>\n      <td>-0.21815</td>\n      <td>-0.121271</td>\n      <td>-0.203744</td>\n      <td>-0.253678</td>\n      <td>-0.272482</td>\n      <td>-1.034391</td>\n      <td>2.582524</td>\n      <td>-0.265896</td>\n      <td>-0.197028</td>\n      <td>-0.072241</td>\n      <td>-0.084144</td>\n      <td>-0.016446</td>\n      <td>-0.563964</td>\n      <td>-0.148886</td>\n      <td>0.689994</td>\n      <td>0.183445</td>\n      <td>0.240494</td>\n      <td>-0.356879</td>\n      <td>0.718351</td>\n      <td>-0.213345</td>\n      <td>0.785347</td>\n      <td>0.932762</td>\n      <td>0.316538</td>\n      <td>0.843596</td>\n      <td>-1.072318</td>\n      <td>0.701293</td>\n      <td>-0.158114</td>\n      <td>1.053852</td>\n      <td>-0.414487</td>\n      <td>0.707652</td>\n      <td>-0.656315</td>\n      <td>0.756282</td>\n    </tr>\n    <tr>\n      <th>11156</th>\n      <td>-0.835814</td>\n      <td>-0.074477</td>\n      <td>-0.305875</td>\n      <td>-0.440682</td>\n      <td>-0.450185</td>\n      <td>15.364378</td>\n      <td>-0.20432</td>\n      <td>-0.803914</td>\n      <td>-0.296584</td>\n      <td>-0.251741</td>\n      <td>-0.137069</td>\n      <td>-0.150209</td>\n      <td>-0.263791</td>\n      <td>-0.293877</td>\n      <td>-0.337415</td>\n      <td>0.918460</td>\n      <td>-0.155762</td>\n      <td>-0.304393</td>\n      <td>-0.254884</td>\n      <td>-0.025483</td>\n      <td>-0.178343</td>\n      <td>-0.176885</td>\n      <td>-0.116594</td>\n      <td>-0.120811</td>\n      <td>-0.334624</td>\n      <td>-0.079798</td>\n      <td>-0.122868</td>\n      <td>-0.061201</td>\n      <td>2.380804</td>\n      <td>-0.285321</td>\n      <td>-0.026524</td>\n      <td>-0.247092</td>\n      <td>-0.182498</td>\n      <td>-0.086078</td>\n      <td>-0.087658</td>\n      <td>-0.153747</td>\n      <td>-0.16585</td>\n      <td>-0.074477</td>\n      <td>-0.084469</td>\n      <td>-0.096041</td>\n      <td>-0.012738</td>\n      <td>0.0</td>\n      <td>-0.162199</td>\n      <td>-0.142695</td>\n      <td>-0.061201</td>\n      <td>-0.106142</td>\n      <td>-0.281759</td>\n      <td>-0.055607</td>\n      <td>-0.168923</td>\n      <td>-0.034514</td>\n      <td>-0.222602</td>\n      <td>-0.330713</td>\n      <td>-0.21815</td>\n      <td>-0.121271</td>\n      <td>-0.203744</td>\n      <td>-0.253678</td>\n      <td>-0.272482</td>\n      <td>-1.034391</td>\n      <td>2.582524</td>\n      <td>-0.265896</td>\n      <td>-0.197028</td>\n      <td>-0.072241</td>\n      <td>-0.084144</td>\n      <td>-0.016446</td>\n      <td>-0.563964</td>\n      <td>-0.148886</td>\n      <td>0.689994</td>\n      <td>0.183445</td>\n      <td>0.240494</td>\n      <td>-0.356879</td>\n      <td>-1.392077</td>\n      <td>-0.213345</td>\n      <td>-1.273322</td>\n      <td>-1.072085</td>\n      <td>0.316538</td>\n      <td>-1.185402</td>\n      <td>-1.072318</td>\n      <td>-1.425938</td>\n      <td>-0.158114</td>\n      <td>1.053852</td>\n      <td>-0.414487</td>\n      <td>-1.413124</td>\n      <td>-0.656315</td>\n      <td>-1.322258</td>\n    </tr>\n    <tr>\n      <th>9212</th>\n      <td>-1.519303</td>\n      <td>-0.074477</td>\n      <td>-0.305875</td>\n      <td>-0.440682</td>\n      <td>-0.450185</td>\n      <td>-0.065086</td>\n      <td>-0.20432</td>\n      <td>-0.803914</td>\n      <td>-0.296584</td>\n      <td>3.972341</td>\n      <td>-0.137069</td>\n      <td>-0.150209</td>\n      <td>-0.263791</td>\n      <td>-0.293877</td>\n      <td>-0.337415</td>\n      <td>0.918460</td>\n      <td>-0.155762</td>\n      <td>-0.304393</td>\n      <td>-0.254884</td>\n      <td>-0.025483</td>\n      <td>-0.178343</td>\n      <td>-0.176885</td>\n      <td>-0.116594</td>\n      <td>-0.120811</td>\n      <td>-0.334624</td>\n      <td>-0.079798</td>\n      <td>-0.122868</td>\n      <td>-0.061201</td>\n      <td>2.380804</td>\n      <td>-0.285321</td>\n      <td>-0.026524</td>\n      <td>-0.247092</td>\n      <td>-0.182498</td>\n      <td>-0.086078</td>\n      <td>-0.087658</td>\n      <td>-0.153747</td>\n      <td>-0.16585</td>\n      <td>-0.074477</td>\n      <td>-0.084469</td>\n      <td>-0.096041</td>\n      <td>-0.012738</td>\n      <td>0.0</td>\n      <td>-0.162199</td>\n      <td>-0.142695</td>\n      <td>-0.061201</td>\n      <td>-0.106142</td>\n      <td>-0.281759</td>\n      <td>-0.055607</td>\n      <td>-0.168923</td>\n      <td>-0.034514</td>\n      <td>-0.222602</td>\n      <td>-0.330713</td>\n      <td>-0.21815</td>\n      <td>-0.121271</td>\n      <td>-0.203744</td>\n      <td>3.941999</td>\n      <td>-0.272482</td>\n      <td>-1.034391</td>\n      <td>-0.387218</td>\n      <td>-0.265896</td>\n      <td>-0.197028</td>\n      <td>-0.072241</td>\n      <td>-0.084144</td>\n      <td>-0.016446</td>\n      <td>1.773163</td>\n      <td>-0.148886</td>\n      <td>-1.449288</td>\n      <td>0.183445</td>\n      <td>0.240494</td>\n      <td>2.802071</td>\n      <td>-1.392077</td>\n      <td>-0.213345</td>\n      <td>-1.273322</td>\n      <td>-1.072085</td>\n      <td>0.316538</td>\n      <td>-1.185402</td>\n      <td>-1.072318</td>\n      <td>-1.425938</td>\n      <td>-0.158114</td>\n      <td>1.053852</td>\n      <td>-0.414487</td>\n      <td>-1.413124</td>\n      <td>-0.656315</td>\n      <td>-1.322258</td>\n    </tr>\n    <tr>\n      <th>1686</th>\n      <td>1.351349</td>\n      <td>-0.074477</td>\n      <td>-0.305875</td>\n      <td>-0.440682</td>\n      <td>-0.450185</td>\n      <td>-0.065086</td>\n      <td>-0.20432</td>\n      <td>1.243913</td>\n      <td>-0.296584</td>\n      <td>-0.251741</td>\n      <td>-0.137069</td>\n      <td>-0.150209</td>\n      <td>-0.263791</td>\n      <td>-0.293877</td>\n      <td>-0.337415</td>\n      <td>0.918460</td>\n      <td>-0.155762</td>\n      <td>-0.304393</td>\n      <td>-0.254884</td>\n      <td>-0.025483</td>\n      <td>-0.178343</td>\n      <td>5.653387</td>\n      <td>-0.116594</td>\n      <td>-0.120811</td>\n      <td>-0.334624</td>\n      <td>-0.079798</td>\n      <td>-0.122868</td>\n      <td>-0.061201</td>\n      <td>-0.420026</td>\n      <td>-0.285321</td>\n      <td>-0.026524</td>\n      <td>-0.247092</td>\n      <td>-0.182498</td>\n      <td>-0.086078</td>\n      <td>-0.087658</td>\n      <td>-0.153747</td>\n      <td>-0.16585</td>\n      <td>-0.074477</td>\n      <td>-0.084469</td>\n      <td>-0.096041</td>\n      <td>-0.012738</td>\n      <td>0.0</td>\n      <td>-0.162199</td>\n      <td>-0.142695</td>\n      <td>-0.061201</td>\n      <td>-0.106142</td>\n      <td>-0.281759</td>\n      <td>-0.055607</td>\n      <td>-0.168923</td>\n      <td>-0.034514</td>\n      <td>-0.222602</td>\n      <td>-0.330713</td>\n      <td>-0.21815</td>\n      <td>-0.121271</td>\n      <td>-0.203744</td>\n      <td>-0.253678</td>\n      <td>-0.272482</td>\n      <td>0.966752</td>\n      <td>-0.387218</td>\n      <td>-0.265896</td>\n      <td>-0.197028</td>\n      <td>-0.072241</td>\n      <td>-0.084144</td>\n      <td>-0.016446</td>\n      <td>-0.563964</td>\n      <td>-0.148886</td>\n      <td>0.689994</td>\n      <td>0.183445</td>\n      <td>0.240494</td>\n      <td>-0.356879</td>\n      <td>0.718351</td>\n      <td>-0.213345</td>\n      <td>0.785347</td>\n      <td>0.932762</td>\n      <td>0.316538</td>\n      <td>0.843596</td>\n      <td>0.932559</td>\n      <td>0.701293</td>\n      <td>-0.158114</td>\n      <td>1.053852</td>\n      <td>2.412619</td>\n      <td>0.707652</td>\n      <td>1.523659</td>\n      <td>0.756282</td>\n    </tr>\n    <tr>\n      <th>7679</th>\n      <td>-0.015628</td>\n      <td>-0.074477</td>\n      <td>-0.305875</td>\n      <td>2.269211</td>\n      <td>-0.450185</td>\n      <td>-0.065086</td>\n      <td>-0.20432</td>\n      <td>-0.803914</td>\n      <td>-0.296584</td>\n      <td>-0.251741</td>\n      <td>-0.137069</td>\n      <td>-0.150209</td>\n      <td>-0.263791</td>\n      <td>-0.293877</td>\n      <td>-0.337415</td>\n      <td>0.918460</td>\n      <td>-0.155762</td>\n      <td>-0.304393</td>\n      <td>-0.254884</td>\n      <td>-0.025483</td>\n      <td>-0.178343</td>\n      <td>-0.176885</td>\n      <td>-0.116594</td>\n      <td>-0.120811</td>\n      <td>-0.334624</td>\n      <td>-0.079798</td>\n      <td>-0.122868</td>\n      <td>-0.061201</td>\n      <td>2.380804</td>\n      <td>-0.285321</td>\n      <td>-0.026524</td>\n      <td>-0.247092</td>\n      <td>-0.182498</td>\n      <td>-0.086078</td>\n      <td>-0.087658</td>\n      <td>-0.153747</td>\n      <td>-0.16585</td>\n      <td>-0.074477</td>\n      <td>-0.084469</td>\n      <td>-0.096041</td>\n      <td>-0.012738</td>\n      <td>0.0</td>\n      <td>-0.162199</td>\n      <td>-0.142695</td>\n      <td>-0.061201</td>\n      <td>-0.106142</td>\n      <td>-0.281759</td>\n      <td>-0.055607</td>\n      <td>-0.168923</td>\n      <td>-0.034514</td>\n      <td>-0.222602</td>\n      <td>-0.330713</td>\n      <td>-0.21815</td>\n      <td>-0.121271</td>\n      <td>-0.203744</td>\n      <td>3.941999</td>\n      <td>-0.272482</td>\n      <td>-1.034391</td>\n      <td>-0.387218</td>\n      <td>-0.265896</td>\n      <td>-0.197028</td>\n      <td>-0.072241</td>\n      <td>-0.084144</td>\n      <td>-0.016446</td>\n      <td>1.773163</td>\n      <td>-0.148886</td>\n      <td>-1.449288</td>\n      <td>0.183445</td>\n      <td>0.240494</td>\n      <td>-0.356879</td>\n      <td>-1.392077</td>\n      <td>-0.213345</td>\n      <td>-1.273322</td>\n      <td>-1.072085</td>\n      <td>0.316538</td>\n      <td>-1.185402</td>\n      <td>-1.072318</td>\n      <td>-1.425938</td>\n      <td>-0.158114</td>\n      <td>1.053852</td>\n      <td>-0.414487</td>\n      <td>0.707652</td>\n      <td>-0.656315</td>\n      <td>-1.322258</td>\n    </tr>\n  </tbody>\n</table>\n</div>"
     },
     "metadata": {},
     "execution_count": 313
    }
   ],
   "source": [
    "X_train.head()"
   ]
  },
  {
   "source": [
    "### Peincipal component analysis (PCA)"
   ],
   "cell_type": "markdown",
   "metadata": {}
  },
  {
   "cell_type": "code",
   "execution_count": 314,
   "metadata": {},
   "outputs": [],
   "source": [
    "#X_train.isna().mean()"
   ]
  },
  {
   "cell_type": "code",
   "execution_count": 315,
   "metadata": {},
   "outputs": [],
   "source": [
    "from sklearn.feature_selection import RFE\n",
    "from sklearn.linear_model import LogisticRegression"
   ]
  },
  {
   "cell_type": "code",
   "execution_count": 316,
   "metadata": {},
   "outputs": [
    {
     "output_type": "stream",
     "name": "stderr",
     "text": [
      "/home/aaa/anaconda3/lib/python3.7/site-packages/sklearn/utils/validation.py:71: FutureWarning: Pass n_features_to_select=20 as keyword args. From version 0.25 passing these as positional arguments will result in an error\n",
      "  FutureWarning)\n",
      "Num Features: 20\n",
      "Selected Features: [False False False False False False False False False False  True  True\n",
      "  True  True  True  True  True  True  True False False False False False\n",
      " False False False  True False False False False  True False False False\n",
      "  True False False False  True  True False False  True  True False  True\n",
      " False  True False False False False False False False False False False\n",
      " False False False  True False False False False False False False False\n",
      " False False False False False False False False  True False False False]\n",
      "Feature Ranking: [64 30 28 34 32 31 35 29 33 27  1  1  1  1  1  1  1  1  1 47 46 22 10 26\n",
      " 12 25 11  1  7 13 42  5  1 56 15  4  1 21 20 61  1  1  2 19  1  1  8  1\n",
      " 39  1  6  9  3 57 41 18 55 63 44 23 17 16 37  1 49 38 59 48 24 58 51 50\n",
      " 53 62 14 60 54 40 45 43  1 65 36 52]\n"
     ]
    }
   ],
   "source": [
    "model = LinearRegression(normalize=True)\n",
    "rfe = RFE(model, 20)\n",
    "fit = rfe.fit(X, y)\n",
    "print(\"Num Features: %d\" % fit.n_features_)\n",
    "print(\"Selected Features: %s\" % fit.support_)\n",
    "print(\"Feature Ranking: %s\" % fit.ranking_)"
   ]
  },
  {
   "cell_type": "code",
   "execution_count": 317,
   "metadata": {},
   "outputs": [
    {
     "output_type": "execute_result",
     "data": {
      "text/plain": [
       "['Suspension Type - Rear_Axle',\n",
       " 'Suspension Type - Rear_Coil Spring',\n",
       " 'Suspension Type - Rear_Double Wishbone',\n",
       " 'Suspension Type - Rear_Independent',\n",
       " 'Suspension Type - Rear_Leaf type',\n",
       " 'Suspension Type - Rear_Link type',\n",
       " 'Suspension Type - Rear_MacPherson Strut',\n",
       " 'Suspension Type - Rear_Others',\n",
       " 'Suspension Type - Rear_Torsion Bar',\n",
       " 'Manufacturer_Fiat',\n",
       " 'Manufacturer_Hyundai',\n",
       " 'Manufacturer_Kia',\n",
       " 'Manufacturer_Lotus',\n",
       " 'Manufacturer_Maserati',\n",
       " 'Manufacturer_Mini',\n",
       " 'Manufacturer_Mitsubishi',\n",
       " 'Manufacturer_Porsche',\n",
       " 'Manufacturer_Smart',\n",
       " 'Passenger Capacity_15',\n",
       " 'Parking Aid_1']"
      ]
     },
     "metadata": {},
     "execution_count": 317
    }
   ],
   "source": [
    "mask = fit.support_\n",
    "\n",
    "new_features = [] # The list of your K best features\n",
    "\n",
    "for bool, feature in zip(mask, X.columns):\n",
    "\n",
    "    if bool:\n",
    "\n",
    "        new_features.append(feature)\n",
    "new_features"
   ]
  },
  {
   "cell_type": "code",
   "execution_count": 318,
   "metadata": {},
   "outputs": [
    {
     "output_type": "stream",
     "name": "stdout",
     "text": [
      "0.35439677251509166\n0.7241617018637871\n"
     ]
    }
   ],
   "source": [
    "n_components = 10\n",
    "\n",
    "pca = PCA(n_components=n_components)\n",
    "pca.fit(X_train)\n",
    "\n",
    "X_train_reduced = pd.DataFrame(pca.transform(X_train), index=X_train.index, columns=[\"PC\" + str(i) for i in range(1, n_components + 1)])\n",
    "X_test_reduced = pd.DataFrame(pca.transform(X_test), index=X_test.index, columns=[\"PC\" + str(i) for i in range(1, n_components + 1)])\n",
    "print(pca.explained_variance_ratio_.sum())\n",
    "print(pca.noise_variance_)"
   ]
  },
  {
   "cell_type": "code",
   "execution_count": 319,
   "metadata": {},
   "outputs": [],
   "source": [
    "loadings = pd.DataFrame(pca.components_, columns=X_train.columns, index = [\"PC\" + str(i) for i in range(1, n_components + 1)])\n",
    "#loadings"
   ]
  },
  {
   "cell_type": "code",
   "execution_count": 320,
   "metadata": {},
   "outputs": [],
   "source": [
    "models = {\n",
    "    \"                     Linear Regression\": LinearRegression(),\n",
    "    \" Linear Regression (L2 Regularization)\": Ridge(),\n",
    "    \" Linear Regression (L1 Regularization)\": Lasso(),\n",
    "    \"                   K-Nearest Neighbors\": KNeighborsRegressor(),\n",
    "    \"Support Vector Machine (Linear Kernel)\": LinearSVR(),\n",
    "    \"   Support Vector Machine (RBF Kernel)\": SVR(),\n",
    "    \"                         Decision Tree\": DecisionTreeRegressor(),\n",
    "    \"                         Random Forest\": RandomForestRegressor(),\n",
    "    \"                     Gradient Boosting\": GradientBoostingRegressor()\n",
    "}\n",
    "\n",
    "#for name, model in models.items():\n",
    "#    model.fit(X_train_reduced, y_train)\n",
    "#    print(name + \" trained.\")"
   ]
  },
  {
   "cell_type": "code",
   "execution_count": 321,
   "metadata": {},
   "outputs": [],
   "source": [
    "#for name, model in models.items():\n",
    "#    print(name + \" R^2 Score: {:.5f}\".format(model.score(X_test_reduced, y_test)))"
   ]
  },
  {
   "cell_type": "code",
   "execution_count": null,
   "metadata": {},
   "outputs": [],
   "source": []
  }
 ]
}